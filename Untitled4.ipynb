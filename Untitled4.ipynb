{
  "nbformat": 4,
  "nbformat_minor": 0,
  "metadata": {
    "colab": {
      "name": "Untitled4.ipynb",
      "provenance": [],
      "include_colab_link": true
    },
    "kernelspec": {
      "name": "python3",
      "display_name": "Python 3"
    }
  },
  "cells": [
    {
      "cell_type": "markdown",
      "metadata": {
        "id": "view-in-github",
        "colab_type": "text"
      },
      "source": [
        "<a href=\"https://colab.research.google.com/github/safetynet1950s/M4-methods/blob/master/Untitled4.ipynb\" target=\"_parent\"><img src=\"https://colab.research.google.com/assets/colab-badge.svg\" alt=\"Open In Colab\"/></a>"
      ]
    },
    {
      "cell_type": "code",
      "metadata": {
        "id": "6DXadIOF6w8T",
        "colab_type": "code",
        "colab": {
          "base_uri": "https://localhost:8080/",
          "height": 483
        },
        "cellView": "form",
        "outputId": "60606cb4-1105-4f81-d8ae-939720e83b67"
      },
      "source": [
        "#@title Mark's PFT app\n",
        "def pft():\n",
        "    operation1 = input('''\n",
        "Is FEV1/FVC greater than LLN?:\n",
        "y for yes\n",
        "n for no\n",
        "''')\n",
        "\n",
        "    operation2 = input('''\n",
        "Is VC greater than or equal to LLN?\n",
        "y for yes\n",
        "n for no\n",
        "''')\n",
        "    if operation1 =='y' and operation2=='y':\n",
        "        print('(normal so far..)')\n",
        "\n",
        "\n",
        "    operation3 = input('''\n",
        "Is TLC greater than or equal to LLN?\n",
        "y for yes\n",
        "n for no\n",
        "''')\n",
        "    if  operation1 =='y' and operation2=='n' and operation3=='n':\n",
        "        print('(evidence for restriction)')\n",
        "    if  operation1 =='n' and operation2=='n' and operation3=='y':\n",
        "        print('(evidence for obstruction)')\n",
        "    if  operation1 =='n' and operation2=='y' and operation3=='y':\n",
        "        print('(evidence for obstruction)')\n",
        "\n",
        "    operation4 = input('''\n",
        "Is DLCO greater than or equal to LLN?\n",
        "y for yes\n",
        "n for no\n",
        "''')\n",
        "\n",
        "    if  operation1 =='y' and operation2=='y' and operation4=='y':\n",
        "        print('normal')\n",
        "    if operation1 =='y' and operation2=='n' and operation3=='n' and operation4=='y':\n",
        "        print('consider chest wall and neuromuscular disorders')\n",
        "    if operation1 =='y' and operation2=='n' and operation3=='n' and operation4=='n':\n",
        "        print('consider interstitial lung disease or pneumonitis')\n",
        "    if operation1 =='y' and operation2=='y' and operation4=='n':\n",
        "        print('consider pulmonary vascular disorders')\n",
        "    if operation1 =='n' and operation2=='y' and operation4=='y':\n",
        "        print('consider asthma and/or chronic bronchitis')\n",
        "    if operation1 =='n' and operation2=='n' and operation4=='y' and operation4=='y':\n",
        "        print('consider asthma and/or chronic bronchitis')\n",
        "    if operation1 =='n' and operation2=='n' and operation4=='n' and operation4=='n':\n",
        "        print('consider emphysema')\n",
        "\n",
        "    again()\n",
        "\n",
        "\n",
        "\n",
        "\n",
        "def again():\n",
        "    calc_again = input('''\n",
        "Do you want to go again?\n",
        "y for yes, n for no..\n",
        "''')\n",
        "\n",
        "    if calc_again == 'y':\n",
        "        pft()\n",
        "    elif calc_again == 'n':\n",
        "        print('~seeya later~')\n",
        "\n",
        "\n",
        "pft()"
      ],
      "execution_count": 0,
      "outputs": [
        {
          "output_type": "stream",
          "text": [
            "\n",
            "Is FEV1/FVC greater than LLN?:\n",
            "y for yes\n",
            "n for no\n",
            "y\n",
            "\n",
            "Is VC greater than or equal to LLN?\n",
            "y for yes\n",
            "n for no\n",
            "n\n",
            "\n",
            "Is TLC greater than or equal to LLN?\n",
            "y for yes\n",
            "n for no\n",
            "n\n",
            "(evidence for restriction)\n",
            "\n",
            "Is DLCO greater than or equal to LLN?\n",
            "y for yes\n",
            "n for no\n",
            "n\n",
            "consider interstitial lung disease or pneumonitis\n"
          ],
          "name": "stdout"
        }
      ]
    }
  ]
}